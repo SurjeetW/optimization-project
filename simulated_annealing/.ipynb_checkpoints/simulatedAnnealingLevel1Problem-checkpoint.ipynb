{
 "cells": [
  {
   "cell_type": "code",
   "execution_count": 71,
   "id": "0df0180d",
   "metadata": {},
   "outputs": [],
   "source": [
    "import numpy as np\n",
    "import random"
   ]
  },
  {
   "cell_type": "code",
   "execution_count": 19,
   "id": "09f6de53",
   "metadata": {},
   "outputs": [
    {
     "data": {
      "text/plain": [
       "array([[ 0, 10, 15, 20],\n",
       "       [10,  0, 35, 25],\n",
       "       [15, 35,  0, 30],\n",
       "       [20, 25, 30,  0]])"
      ]
     },
     "execution_count": 19,
     "metadata": {},
     "output_type": "execute_result"
    }
   ],
   "source": [
    "n_cities = 4\n",
    "graph = np.array([[0, 10, 15, 20], [10, 0, 35, 25],\n",
    "            [15, 35, 0, 30], [20, 25, 30, 0]])\n",
    "graph"
   ]
  },
  {
   "cell_type": "code",
   "execution_count": 77,
   "id": "88cdbc19",
   "metadata": {},
   "outputs": [],
   "source": [
    "def objective_function(parameter_graph, variable_x):\n",
    "    valid_edges = []\n",
    "    objective_value = 0\n",
    "    for i in range(n_cities-1):\n",
    "        valid_edges.append([variable_x[i], variable_x[i+1]])\n",
    "        objective_value += parameter_graph[variable_x[i], variable_x[i+1]]\n",
    "      \n",
    "    valid_edges.append([variable_x[n_cities-1], variable_x[0]])\n",
    "    objective_value += parameter_graph[variable_x[n_cities-1], variable_x[0]]\n",
    "    # print(\"valid edges:\", valid_edges)\n",
    "    return objective_value"
   ]
  },
  {
   "cell_type": "code",
   "execution_count": 78,
   "id": "d16e944e",
   "metadata": {},
   "outputs": [
    {
     "data": {
      "text/plain": [
       "80"
      ]
     },
     "execution_count": 78,
     "metadata": {},
     "output_type": "execute_result"
    }
   ],
   "source": [
    "x_test = (0, 1, 3, 2)\n",
    "objective_function(graph, x_test)"
   ]
  },
  {
   "cell_type": "markdown",
   "id": "c89b7b43",
   "metadata": {},
   "source": [
    "```\n",
    "make a random initial guess\n",
    "set initial temperature\n",
    "loop many times\n",
    "  swap two randomly selected elements of the guess\n",
    "  compute error of proposed solution\n",
    "  if proposed solution is better than curr solution then\n",
    "    accept the proposed solution\n",
    "  else if proposed solution is worse then\n",
    "    accept the worse solution anyway with small probability\n",
    "  else\n",
    "    don't accept the proposed solution\n",
    "  end-if\n",
    "  reduce temperature slightly\n",
    "end-loop\n",
    "return best solution found\n",
    "```"
   ]
  },
  {
   "cell_type": "code",
   "execution_count": 108,
   "id": "1dda689d",
   "metadata": {},
   "outputs": [],
   "source": [
    "def sa(objective_function, parameter_graph, n_iterations, temperature, initial_guess):\n",
    "    \n",
    "    cooling_rate = 0.8 \n",
    "    # accoridng to https://www.youtube.com/watch?v=AEeYp5VtI08&list=LL&index=36\n",
    "    # it should be between 0.8 to 0.99\n",
    "    \n",
    "    current_path = initial_guess\n",
    "    current_objective_value = objective_function(parameter_graph, current_path)\n",
    "    current_temperature = temperature\n",
    "    \n",
    "    for i in range(n_iterations):\n",
    "        print(\"iteration number: \", i)\n",
    "        print(\"current path: \", current_path)\n",
    "        print(\"current objective value: \", current_objective_value)\n",
    "        print(\"current_temperature: \", current_temperature, \"\\n\")\n",
    "        \n",
    "        # generate a new path\n",
    "        '''\n",
    "        1. everytime gar aise current path mein change krengein toh ghum phirake same jagah aayengein\n",
    "        2. changeit to position to swap in initial guess lso maximum iteration run sirf ncities factorial ho sakta hai toh poora iterations ke liye hamesha \n",
    "        we can run ek baar hi to get all possible combination and then squence usmein se pick\n",
    "        krte hue ja sakte hai\n",
    "        ideally if you fix source and destination toh nc-2 !\n",
    "        nhi toh phir n-1 fac hona chahiye\n",
    "        3. abhi source bhi fix kro\n",
    "        4. destination bhi fix karo\n",
    "        '''\n",
    "        positions_to_swap = random.sample(range(0, 4), 2) # wud be good if could be replaced with np.random\n",
    "        new_path = current_path\n",
    "        temp = new_path[positions_to_swap[0]]\n",
    "        new_path[positions_to_swap[0]] = new_path[positions_to_swap[1]]\n",
    "        new_path[positions_to_swap[1]] = temp\n",
    "        \n",
    "        # compute new value of obejctive function\n",
    "        new_objective_value = objective_function(parameter_graph, new_path)\n",
    "        \n",
    "        # compare with the current path if the new one is better\n",
    "        if new_objective_value < current_objective_value:\n",
    "            current_path = new_path\n",
    "            current_objective_value = new_objective_value\n",
    "        elif new_objective_value > current_objective_value:\n",
    "            # accept the solution with some proabablity\n",
    "            probability = np.exp(-(new_objective_value-current_objective_value)/current_temperature)\n",
    "            print(\"probability: \", probability)\n",
    "            if probability > 0.9:\n",
    "                current_path = new_path\n",
    "                current_objective_value = new_objective_value\n",
    "            else:\n",
    "                pass    \n",
    "        else:\n",
    "            pass\n",
    "        # update temperature\n",
    "        current_temperature = current_temperature * pow(cooling_rate, i)\n",
    "        \n",
    "    \n",
    "        \n",
    "    return current_path   "
   ]
  },
  {
   "cell_type": "code",
   "execution_count": 110,
   "id": "6d466e10",
   "metadata": {},
   "outputs": [
    {
     "name": "stdout",
     "output_type": "stream",
     "text": [
      "iteration number:  0\n",
      "current path:  [0, 1, 2, 3]\n",
      "current objective value:  95\n",
      "current_temperature:  1000 \n",
      "\n",
      "iteration number:  1\n",
      "current path:  [3, 1, 2, 0]\n",
      "current objective value:  95\n",
      "current_temperature:  1000.0 \n",
      "\n",
      "iteration number:  2\n",
      "current path:  [3, 2, 1, 0]\n",
      "current objective value:  95\n",
      "current_temperature:  800.0 \n",
      "\n",
      "iteration number:  3\n",
      "current path:  [3, 0, 1, 2]\n",
      "current objective value:  95\n",
      "current_temperature:  512.0000000000001 \n",
      "\n",
      "iteration number:  4\n",
      "current path:  [2, 0, 1, 3]\n",
      "current objective value:  80\n",
      "current_temperature:  262.1440000000001 \n",
      "\n",
      "probability:  0.9443858480703152\n"
     ]
    },
    {
     "data": {
      "text/plain": [
       "[3, 0, 1, 2]"
      ]
     },
     "execution_count": 110,
     "metadata": {},
     "output_type": "execute_result"
    }
   ],
   "source": [
    "sa(objective_function, parameter_graph=graph, n_iterations=5, temperature=1000, initial_guess=[0, 1, 2, 3])"
   ]
  },
  {
   "cell_type": "code",
   "execution_count": 95,
   "id": "e2e1a821",
   "metadata": {},
   "outputs": [
    {
     "data": {
      "text/plain": [
       "list"
      ]
     },
     "execution_count": 95,
     "metadata": {},
     "output_type": "execute_result"
    }
   ],
   "source": [
    "type(random.sample(range(0, 4), 2))"
   ]
  },
  {
   "cell_type": "code",
   "execution_count": 91,
   "id": "51de48ff",
   "metadata": {},
   "outputs": [],
   "source": [
    "intial_guess=[0, 1, 2, 3]\n",
    "type(inital)"
   ]
  },
  {
   "cell_type": "code",
   "execution_count": null,
   "id": "16c6a6db",
   "metadata": {},
   "outputs": [],
   "source": []
  }
 ],
 "metadata": {
  "kernelspec": {
   "display_name": "Python 3 (ipykernel)",
   "language": "python",
   "name": "python3"
  },
  "language_info": {
   "codemirror_mode": {
    "name": "ipython",
    "version": 3
   },
   "file_extension": ".py",
   "mimetype": "text/x-python",
   "name": "python",
   "nbconvert_exporter": "python",
   "pygments_lexer": "ipython3",
   "version": "3.8.10"
  }
 },
 "nbformat": 4,
 "nbformat_minor": 5
}

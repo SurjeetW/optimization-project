{
 "cells": [
  {
   "cell_type": "code",
   "execution_count": 11,
   "id": "0bd65699",
   "metadata": {},
   "outputs": [],
   "source": [
    "import numpy as np\n",
    "import random"
   ]
  },
  {
   "cell_type": "code",
   "execution_count": 12,
   "id": "7cb26d91",
   "metadata": {},
   "outputs": [
    {
     "data": {
      "text/plain": [
       "array([[ 0, 10, 15, 20],\n",
       "       [10,  0, 35, 25],\n",
       "       [15, 35,  0, 30],\n",
       "       [20, 25, 30,  0]])"
      ]
     },
     "execution_count": 12,
     "metadata": {},
     "output_type": "execute_result"
    }
   ],
   "source": [
    "n_cities = 4\n",
    "graph = np.array([[0, 10, 15, 20], [10, 0, 35, 25],\n",
    "            [15, 35, 0, 30], [20, 25, 30, 0]])\n",
    "graph"
   ]
  },
  {
   "cell_type": "code",
   "execution_count": 13,
   "id": "c0aa545d",
   "metadata": {},
   "outputs": [],
   "source": [
    "def objective_function(parameter_graph, variable_x):\n",
    "    valid_edges = []\n",
    "    objective_value = 0\n",
    "    for i in range(n_cities-1):\n",
    "        valid_edges.append([variable_x[i], variable_x[i+1]])\n",
    "        objective_value += parameter_graph[variable_x[i], variable_x[i+1]]\n",
    "      \n",
    "    valid_edges.append([variable_x[n_cities-1], variable_x[0]])\n",
    "    objective_value += parameter_graph[variable_x[n_cities-1], variable_x[0]]\n",
    "    # print(\"valid edges:\", valid_edges)\n",
    "    return objective_value"
   ]
  },
  {
   "cell_type": "code",
   "execution_count": 75,
   "id": "af6fa78e",
   "metadata": {},
   "outputs": [
    {
     "data": {
      "text/plain": [
       "80"
      ]
     },
     "execution_count": 75,
     "metadata": {},
     "output_type": "execute_result"
    }
   ],
   "source": [
    "x_test = (0, 2, 3, 1)\n",
    "objective_function(graph, x_test)"
   ]
  },
  {
   "cell_type": "markdown",
   "id": "ccaf7d22",
   "metadata": {},
   "source": [
    "```\n",
    "make a random initial guess\n",
    "set initial temperature\n",
    "loop many times\n",
    "  swap two randomly selected elements of the guess\n",
    "  compute error of proposed solution\n",
    "  if proposed solution is better than curr solution then\n",
    "    accept the proposed solution\n",
    "  else if proposed solution is worse then\n",
    "    accept the worse solution anyway with small probability\n",
    "  else\n",
    "    don't accept the proposed solution\n",
    "  end-if\n",
    "  reduce temperature slightly\n",
    "end-loop\n",
    "return best solution found\n",
    "```"
   ]
  },
  {
   "cell_type": "code",
   "execution_count": 76,
   "id": "cd4a2e34",
   "metadata": {},
   "outputs": [],
   "source": [
    "def sa(objective_function, parameter_graph, n_iterations, temperature, initial_guess):\n",
    "    \n",
    "    cooling_rate = 0.98 \n",
    "    # accoridng to https://www.youtube.com/watch?v=AEeYp5VtI08&list=LL&index=36\n",
    "    # it should be between 0.8 to 0.99\n",
    "    \n",
    "    current_path = initial_guess.copy()\n",
    "    current_objective_value = objective_function(parameter_graph, current_path)\n",
    "    current_temperature = temperature\n",
    "    \n",
    "    new_path = initial_guess.copy()\n",
    "    random.seed(10)\n",
    "    \n",
    "    for i in range(n_iterations):\n",
    "        # generate a new path\n",
    "        '''\n",
    "        ask sir: if we fix n-1 factorial, we get worst time case value, which leads some estimation of total time\n",
    "        needed\n",
    "        '''\n",
    "        positions_to_swap = random.sample(range(1, n_cities), 2) # wud be good if could be replaced with np.random\n",
    "        temp = new_path[positions_to_swap[0]]\n",
    "        new_path[positions_to_swap[0]] = new_path[positions_to_swap[1]]\n",
    "        new_path[positions_to_swap[1]] = temp\n",
    "        \n",
    "        print(\"cp\", current_path)\n",
    "        print(\"np\", new_path)\n",
    "        \n",
    "        # compute new value of obejctive function\n",
    "        new_objective_value = objective_function(parameter_graph, new_path)\n",
    "        \n",
    "        # compare with the current path if the new one is better\n",
    "        if new_objective_value < current_objective_value:\n",
    "            print(\"first condition\")\n",
    "            current_path = new_path.copy()\n",
    "            current_objective_value = new_objective_value.copy()\n",
    "        elif new_objective_value >= current_objective_value:\n",
    "            # accept the solution with some proabablity\n",
    "            probability = np.exp(-(new_objective_value-current_objective_value)/current_temperature)\n",
    "            print(\"probability: \", probability)\n",
    "            if probability > 0.99:\n",
    "                print(\"second condition\")\n",
    "                current_path = new_path.copy()\n",
    "                current_objective_value = new_objective_value.copy()\n",
    "            else:\n",
    "                pass    \n",
    "        else:\n",
    "            pass\n",
    "        # update temperature\n",
    "        current_temperature = temperature * pow(cooling_rate, i)\n",
    "        \n",
    "        print(\"iteration number: \", i)\n",
    "        # print(\"current path: \", current_path)\n",
    "        print(\"current objective value: \", current_objective_value)\n",
    "        print(\"current_temperature: \", current_temperature, \"\\n\")\n",
    "        print(\"-------------------------------------------\")\n",
    "\n",
    "    return current_path   "
   ]
  },
  {
   "cell_type": "code",
   "execution_count": 77,
   "id": "c31feef3",
   "metadata": {},
   "outputs": [
    {
     "name": "stdout",
     "output_type": "stream",
     "text": [
      "cp [0, 1, 2, 3]\n",
      "np [0, 3, 2, 1]\n",
      "probability:  1.0\n",
      "second condition\n",
      "iteration number:  0\n",
      "current objective value:  95\n",
      "current_temperature:  1000.0 \n",
      "\n",
      "-------------------------------------------\n",
      "cp [0, 3, 2, 1]\n",
      "np [0, 3, 1, 2]\n",
      "probability:  1.0\n",
      "second condition\n",
      "iteration number:  1\n",
      "current objective value:  95\n",
      "current_temperature:  980.0 \n",
      "\n",
      "-------------------------------------------\n",
      "cp [0, 3, 1, 2]\n",
      "np [0, 2, 1, 3]\n",
      "probability:  1.0\n",
      "second condition\n",
      "iteration number:  2\n",
      "current objective value:  95\n",
      "current_temperature:  960.3999999999999 \n",
      "\n",
      "-------------------------------------------\n",
      "cp [0, 2, 1, 3]\n",
      "np [0, 1, 2, 3]\n",
      "probability:  1.0\n",
      "second condition\n",
      "iteration number:  3\n",
      "current objective value:  95\n",
      "current_temperature:  941.1919999999999 \n",
      "\n",
      "-------------------------------------------\n",
      "cp [0, 1, 2, 3]\n",
      "np [0, 1, 3, 2]\n",
      "first condition\n",
      "iteration number:  4\n",
      "current objective value:  80\n",
      "current_temperature:  922.3681599999999 \n",
      "\n",
      "-------------------------------------------\n",
      "cp [0, 1, 3, 2]\n",
      "np [0, 2, 3, 1]\n",
      "probability:  1.0\n",
      "second condition\n",
      "iteration number:  5\n",
      "current objective value:  80\n",
      "current_temperature:  903.9207968 \n",
      "\n",
      "-------------------------------------------\n",
      "cp [0, 2, 3, 1]\n",
      "np [0, 3, 2, 1]\n",
      "probability:  0.9835425539136741\n",
      "iteration number:  6\n",
      "current objective value:  80\n",
      "current_temperature:  885.8423808639999 \n",
      "\n",
      "-------------------------------------------\n",
      "cp [0, 2, 3, 1]\n",
      "np [0, 2, 3, 1]\n",
      "probability:  1.0\n",
      "second condition\n",
      "iteration number:  7\n",
      "current objective value:  80\n",
      "current_temperature:  868.1255332467199 \n",
      "\n",
      "-------------------------------------------\n",
      "cp [0, 2, 3, 1]\n",
      "np [0, 3, 2, 1]\n",
      "probability:  0.9828698119800269\n",
      "iteration number:  8\n",
      "current objective value:  80\n",
      "current_temperature:  850.7630225817854 \n",
      "\n",
      "-------------------------------------------\n",
      "cp [0, 2, 3, 1]\n",
      "np [0, 2, 3, 1]\n",
      "probability:  1.0\n",
      "second condition\n",
      "iteration number:  9\n",
      "current objective value:  80\n",
      "current_temperature:  833.7477621301498 \n",
      "\n",
      "-------------------------------------------\n"
     ]
    },
    {
     "data": {
      "text/plain": [
       "[0, 2, 3, 1]"
      ]
     },
     "execution_count": 77,
     "metadata": {},
     "output_type": "execute_result"
    }
   ],
   "source": [
    "sa(objective_function, parameter_graph=graph, n_iterations=10, temperature=1000, initial_guess=[0, 1, 2, 3])"
   ]
  },
  {
   "cell_type": "code",
   "execution_count": 17,
   "id": "c53e828d",
   "metadata": {},
   "outputs": [
    {
     "data": {
      "text/plain": [
       "list"
      ]
     },
     "execution_count": 17,
     "metadata": {},
     "output_type": "execute_result"
    }
   ],
   "source": [
    "type(random.sample(range(0, 4), 2))"
   ]
  },
  {
   "cell_type": "code",
   "execution_count": 19,
   "id": "354e435e",
   "metadata": {},
   "outputs": [],
   "source": [
    "intial_guess=[0, 1, 2, 3]\n",
    "# type(initial)"
   ]
  },
  {
   "cell_type": "code",
   "execution_count": null,
   "id": "c4c95d4c",
   "metadata": {},
   "outputs": [],
   "source": []
  }
 ],
 "metadata": {
  "kernelspec": {
   "display_name": "Python 3 (ipykernel)",
   "language": "python",
   "name": "python3"
  },
  "language_info": {
   "codemirror_mode": {
    "name": "ipython",
    "version": 3
   },
   "file_extension": ".py",
   "mimetype": "text/x-python",
   "name": "python",
   "nbconvert_exporter": "python",
   "pygments_lexer": "ipython3",
   "version": "3.8.10"
  }
 },
 "nbformat": 4,
 "nbformat_minor": 5
}
